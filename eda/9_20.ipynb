{
 "cells": [
  {
   "cell_type": "code",
   "execution_count": 18,
   "outputs": [],
   "source": [
    "import pandas as pd\n",
    "\n",
    "project_path = '/home/wjunneng/Ubuntu/2019-CDA-Product-Marketing-Model-Construction-And-Forecasting'\n",
    "\n",
    "df_test_path = project_path + '/data/original/df_test.csv'\n",
    "df_training_path = project_path + '/data/original/df_training.csv'\n",
    "\n",
    "df_test = pd.read_csv(df_test_path, encoding='utf-8')\n",
    "df_training = pd.read_csv(df_training_path, encoding='utf-8')\n"
   ],
   "metadata": {
    "collapsed": false,
    "pycharm": {
     "name": "#%%\n",
     "is_executing": false
    }
   }
  },
  {
   "cell_type": "code",
   "execution_count": 19,
   "outputs": [
    {
     "data": {
      "text/plain": "?      1835\n850     104\n667      28\n684      28\n714      25\n       ... \n363       1\n447       1\n432       1\n442       1\n404       1\nName: 'Product using score', Length: 440, dtype: int64"
     },
     "metadata": {},
     "output_type": "execute_result",
     "execution_count": 19
    }
   ],
   "source": [
    "df_training[\"'Product using score'\"].value_counts()\n"
   ],
   "metadata": {
    "collapsed": false,
    "pycharm": {
     "name": "#%%\n",
     "is_executing": false
    }
   }
  },
  {
   "cell_type": "code",
   "execution_count": 20,
   "outputs": [],
   "source": [
    "# import numpy as np\n",
    "# df_training.replace('?', np.nan, inplace=True)\n",
    "# df_training.isnull().sum()\n"
   ],
   "metadata": {
    "collapsed": false,
    "pycharm": {
     "name": "#%%\n",
     "is_executing": false
    }
   }
  },
  {
   "cell_type": "code",
   "execution_count": 21,
   "outputs": [
    {
     "name": "stdout",
     "text": [
      "\n\nID \n2047    1\n6818    1\n1257    1\n2708    1\n8853    1\n       ..\n5460    1\n7509    1\n1366    1\n3415    1\n8192    1\nName: ID, Length: 6000, dtype: int64\n\n\n'Product using score' \n?      1835\n850     104\n667      28\n684      28\n714      25\n       ... \n363       1\n447       1\n432       1\n442       1\n404       1\nName: 'Product using score', Length: 440, dtype: int64\n\n\n'User area' \nTaipei      2077\n?           1833\nTaichung    1063\nTainan      1027\nName: 'User area', dtype: int64\n\n\ngender \nMale      2315\n?         1844\nFemale    1841\nName: gender, dtype: int64\n\n\nage \n?     1821\n35     223\n36     212\n37     206\n40     186\n      ... \n92       1\n82       1\n78       1\n85       1\n84       1\nName: age, Length: 69, dtype: int64\n\n\n'Cumulative using time' \n?     1793\n2      455\n9      442\n8      436\n4      435\n3      426\n5      420\n1      418\n7      414\n6      402\n10     184\n0      175\nName: 'Cumulative using time', dtype: int64\n\n\n'Point balance' \n?            1768\n0            1535\n130170.82       2\n77487.2         1\n105599.67       1\n             ... \n129991.76       1\n154483.98       1\n105443.68       1\n120923.52       1\n117524.72       1\nName: 'Point balance', Length: 2698, dtype: int64\n\n\n'Product service usage' \n1    2138\n2    1911\n?    1812\n3     116\n4      23\nName: 'Product service usage', dtype: int64\n\n\n'Pay a monthly fee by credit card' \n1    2907\n?    1882\n0    1211\nName: 'Pay a monthly fee by credit card', dtype: int64\n\n\n'Active user' \n1    2195\n0    1986\n?    1819\nName: 'Active user', dtype: int64\n\n\n' Estimated salary' \n?            1839\n54113.38        1\n40980.87        1\n27286.1         1\n78970.58        1\n             ... \n196894.62       1\n36479.27        1\n127804.66       1\n20066.38        1\n137696.25       1\nName: ' Estimated salary', Length: 4162, dtype: int64\n\n\n'Purchase or not' \n0    4777\n1    1223\nName: 'Purchase or not', dtype: int64\n"
     ],
     "output_type": "stream"
    }
   ],
   "source": [
    "for column in list(df_training.columns):\n",
    "    print('\\n')\n",
    "    print(column+' ')\n",
    "    print(df_training[column].value_counts())\n",
    "    "
   ],
   "metadata": {
    "collapsed": false,
    "pycharm": {
     "name": "#%%\n",
     "is_executing": false
    }
   }
  },
  {
   "cell_type": "code",
   "execution_count": null,
   "outputs": [],
   "source": [
    "\n"
   ],
   "metadata": {
    "collapsed": false,
    "pycharm": {
     "name": "#%%\n"
    }
   }
  }
 ],
 "metadata": {
  "language_info": {
   "codemirror_mode": {
    "name": "ipython",
    "version": 2
   },
   "file_extension": ".py",
   "mimetype": "text/x-python",
   "name": "python",
   "nbconvert_exporter": "python",
   "pygments_lexer": "ipython2",
   "version": "2.7.6"
  },
  "kernelspec": {
   "name": "python3",
   "language": "python",
   "display_name": "Python 3"
  },
  "pycharm": {
   "stem_cell": {
    "cell_type": "raw",
    "source": [],
    "metadata": {
     "collapsed": false
    }
   }
  }
 },
 "nbformat": 4,
 "nbformat_minor": 0
}