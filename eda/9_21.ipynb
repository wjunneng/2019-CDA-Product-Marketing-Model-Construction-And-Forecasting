{
 "cells": [
  {
   "cell_type": "code",
   "execution_count": 1,
   "metadata": {
    "collapsed": true,
    "pycharm": {
     "is_executing": false
    }
   },
   "outputs": [],
   "source": [
    "import pandas as pd\n",
    "\n",
    "project_path = '/home/wjunneng/Ubuntu/2019-CDA-Product-Marketing-Model-Construction-And-Forecasting'\n",
    "\n",
    "df_test_path = project_path + '/data/original/df_test.csv'\n",
    "df_training_path = project_path + '/data/original/df_training.csv'\n",
    "\n",
    "df_test = pd.read_csv(df_test_path, encoding='utf-8')\n",
    "df_training = pd.read_csv(df_training_path, encoding='utf-8')"
   ]
  },
  {
   "cell_type": "code",
   "execution_count": 3,
   "outputs": [
    {
     "data": {
      "text/plain": "ID                                       0\n'Product using score'                 1835\n'User area'                           1833\ngender                                1844\nage                                   1821\n'Cumulative using time'               1793\n'Point balance'                       1768\n'Product service usage'               1812\n'Pay a monthly fee by credit card'    1882\n'Active user'                         1819\n' Estimated salary'                   1839\n'Purchase or not'                        0\ndtype: int64"
     },
     "metadata": {},
     "output_type": "execute_result",
     "execution_count": 3
    }
   ],
   "source": [
    "import numpy as np\n",
    "\n",
    "df_training.replace('?', np.nan, inplace=True)\n",
    "df_training.isnull().sum()\n"
   ],
   "metadata": {
    "collapsed": false,
    "pycharm": {
     "name": "#%%\n",
     "is_executing": false
    }
   }
  },
  {
   "cell_type": "code",
   "execution_count": null,
   "outputs": [],
   "source": [
    "\n"
   ],
   "metadata": {
    "collapsed": false,
    "pycharm": {
     "name": "#%%\n"
    }
   }
  }
 ],
 "metadata": {
  "language_info": {
   "codemirror_mode": {
    "name": "ipython",
    "version": 2
   },
   "file_extension": ".py",
   "mimetype": "text/x-python",
   "name": "python",
   "nbconvert_exporter": "python",
   "pygments_lexer": "ipython2",
   "version": "2.7.6"
  },
  "kernelspec": {
   "name": "pycharm-e50da876",
   "language": "python",
   "display_name": "PyCharm (ForecastScore)"
  },
  "pycharm": {
   "stem_cell": {
    "cell_type": "raw",
    "source": [],
    "metadata": {
     "collapsed": false
    }
   }
  }
 },
 "nbformat": 4,
 "nbformat_minor": 0
}