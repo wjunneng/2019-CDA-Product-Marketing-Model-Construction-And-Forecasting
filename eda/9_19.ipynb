{
 "cells": [
  {
   "cell_type": "code",
   "execution_count": 74,
   "metadata": {
    "collapsed": true,
    "pycharm": {
     "is_executing": false
    }
   },
   "outputs": [],
   "source": [
    "import pandas as pd\n",
    "\n",
    "project_path = '/home/wjunneng/Ubuntu/2019-CDA-Product-Marketing-Model-Construction-And-Forecasting'\n",
    "\n",
    "df_test_path = project_path + '/data/original/df_test.csv'\n",
    "df_training_path = project_path + '/data/original/df_training.csv'\n",
    "\n",
    "df_test = pd.read_csv(df_test_path, encoding='utf-8')\n",
    "df_training = pd.read_csv(df_training_path, encoding='utf-8')\n"
   ]
  },
  {
   "cell_type": "code",
   "execution_count": 75,
   "metadata": {
    "pycharm": {
     "is_executing": false,
     "name": "#%%\n"
    }
   },
   "outputs": [
    {
     "name": "stdout",
     "output_type": "stream",
     "text": [
      "<class 'pandas.core.frame.DataFrame'>\n",
      "RangeIndex: 2000 entries, 0 to 1999\n",
      "Data columns (total 12 columns):\n",
      "ID                                    2000 non-null int64\n",
      "'Product using score'                 2000 non-null object\n",
      "'User area'                           2000 non-null object\n",
      "gender                                2000 non-null object\n",
      "age                                   2000 non-null object\n",
      "'Cumulative using time'               2000 non-null object\n",
      "'Point balance'                       2000 non-null object\n",
      "'Product service usage'               2000 non-null object\n",
      "'Pay a monthly fee by credit card'    2000 non-null object\n",
      "'Active user'                         2000 non-null object\n",
      "' Estimated salary'                   2000 non-null object\n",
      "'Purchase or not'                     2000 non-null object\n",
      "dtypes: int64(1), object(11)\n",
      "memory usage: 187.6+ KB\n"
     ]
    }
   ],
   "source": [
    "df_test.info()\n"
   ]
  },
  {
   "cell_type": "code",
   "execution_count": 76,
   "metadata": {
    "pycharm": {
     "is_executing": false,
     "name": "#%%\n"
    }
   },
   "outputs": [
    {
     "name": "stdout",
     "output_type": "stream",
     "text": [
      "<class 'pandas.core.frame.DataFrame'>\n",
      "RangeIndex: 6000 entries, 0 to 5999\n",
      "Data columns (total 12 columns):\n",
      "ID                                    6000 non-null int64\n",
      "'Product using score'                 6000 non-null object\n",
      "'User area'                           6000 non-null object\n",
      "gender                                6000 non-null object\n",
      "age                                   6000 non-null object\n",
      "'Cumulative using time'               6000 non-null object\n",
      "'Point balance'                       6000 non-null object\n",
      "'Product service usage'               6000 non-null object\n",
      "'Pay a monthly fee by credit card'    6000 non-null object\n",
      "'Active user'                         6000 non-null object\n",
      "' Estimated salary'                   6000 non-null object\n",
      "'Purchase or not'                     6000 non-null int64\n",
      "dtypes: int64(2), object(10)\n",
      "memory usage: 562.6+ KB\n"
     ]
    }
   ],
   "source": [
    "df_training.info()\n"
   ]
  },
  {
   "cell_type": "code",
   "execution_count": 77,
   "metadata": {
    "pycharm": {
     "is_executing": false,
     "name": "#%%\n"
    }
   },
   "outputs": [
    {
     "data": {
      "text/plain": [
       "Index(['ID', ''Product using score'', ''User area'', 'gender', 'age',\n",
       "       ''Cumulative using time'', ''Point balance'', ''Product service usage'',\n",
       "       ''Pay a monthly fee by credit card'', ''Active user'',\n",
       "       '' Estimated salary'', ''Purchase or not''],\n",
       "      dtype='object')"
      ]
     },
     "execution_count": 77,
     "metadata": {},
     "output_type": "execute_result"
    }
   ],
   "source": [
    "df_test.columns\n"
   ]
  },
  {
   "cell_type": "code",
   "execution_count": 78,
   "metadata": {
    "pycharm": {
     "is_executing": false,
     "name": "#%%\n"
    }
   },
   "outputs": [
    {
     "data": {
      "text/plain": [
       "Index(['ID', ''Product using score'', ''User area'', 'gender', 'age',\n",
       "       ''Cumulative using time'', ''Point balance'', ''Product service usage'',\n",
       "       ''Pay a monthly fee by credit card'', ''Active user'',\n",
       "       '' Estimated salary'', ''Purchase or not''],\n",
       "      dtype='object')"
      ]
     },
     "execution_count": 78,
     "metadata": {},
     "output_type": "execute_result"
    }
   ],
   "source": [
    "df_training.columns\n"
   ]
  },
  {
   "cell_type": "code",
   "execution_count": 79,
   "metadata": {
    "pycharm": {
     "is_executing": false,
     "name": "#%%\n"
    }
   },
   "outputs": [
    {
     "data": {
      "text/html": [
       "<div>\n",
       "<style scoped>\n",
       "    .dataframe tbody tr th:only-of-type {\n",
       "        vertical-align: middle;\n",
       "    }\n",
       "\n",
       "    .dataframe tbody tr th {\n",
       "        vertical-align: top;\n",
       "    }\n",
       "\n",
       "    .dataframe thead th {\n",
       "        text-align: right;\n",
       "    }\n",
       "</style>\n",
       "<table border=\"1\" class=\"dataframe\">\n",
       "  <thead>\n",
       "    <tr style=\"text-align: right;\">\n",
       "      <th></th>\n",
       "      <th>ID</th>\n",
       "      <th>'Product using score'</th>\n",
       "      <th>'User area'</th>\n",
       "      <th>gender</th>\n",
       "      <th>age</th>\n",
       "      <th>'Cumulative using time'</th>\n",
       "      <th>'Point balance'</th>\n",
       "      <th>'Product service usage'</th>\n",
       "      <th>'Pay a monthly fee by credit card'</th>\n",
       "      <th>'Active user'</th>\n",
       "      <th>' Estimated salary'</th>\n",
       "      <th>'Purchase or not'</th>\n",
       "    </tr>\n",
       "  </thead>\n",
       "  <tbody>\n",
       "    <tr>\n",
       "      <td>0</td>\n",
       "      <td>2</td>\n",
       "      <td>608</td>\n",
       "      <td>Tainan</td>\n",
       "      <td>?</td>\n",
       "      <td>41</td>\n",
       "      <td>?</td>\n",
       "      <td>83807.86</td>\n",
       "      <td>1</td>\n",
       "      <td>?</td>\n",
       "      <td>1</td>\n",
       "      <td>?</td>\n",
       "      <td>Withheld</td>\n",
       "    </tr>\n",
       "    <tr>\n",
       "      <td>1</td>\n",
       "      <td>6</td>\n",
       "      <td>645</td>\n",
       "      <td>?</td>\n",
       "      <td>Male</td>\n",
       "      <td>?</td>\n",
       "      <td>8</td>\n",
       "      <td>113755.78</td>\n",
       "      <td>?</td>\n",
       "      <td>1</td>\n",
       "      <td>0</td>\n",
       "      <td>?</td>\n",
       "      <td>Withheld</td>\n",
       "    </tr>\n",
       "    <tr>\n",
       "      <td>2</td>\n",
       "      <td>13</td>\n",
       "      <td>476</td>\n",
       "      <td>?</td>\n",
       "      <td>Female</td>\n",
       "      <td>34</td>\n",
       "      <td>10</td>\n",
       "      <td>0</td>\n",
       "      <td>?</td>\n",
       "      <td>1</td>\n",
       "      <td>0</td>\n",
       "      <td>26260.98</td>\n",
       "      <td>Withheld</td>\n",
       "    </tr>\n",
       "    <tr>\n",
       "      <td>3</td>\n",
       "      <td>17</td>\n",
       "      <td>653</td>\n",
       "      <td>Taichung</td>\n",
       "      <td>Male</td>\n",
       "      <td>58</td>\n",
       "      <td>?</td>\n",
       "      <td>132602.88</td>\n",
       "      <td>1</td>\n",
       "      <td>1</td>\n",
       "      <td>0</td>\n",
       "      <td>5097.67</td>\n",
       "      <td>Withheld</td>\n",
       "    </tr>\n",
       "    <tr>\n",
       "      <td>4</td>\n",
       "      <td>31</td>\n",
       "      <td>591</td>\n",
       "      <td>Tainan</td>\n",
       "      <td>Female</td>\n",
       "      <td>39</td>\n",
       "      <td>3</td>\n",
       "      <td>0</td>\n",
       "      <td>?</td>\n",
       "      <td>1</td>\n",
       "      <td>?</td>\n",
       "      <td>?</td>\n",
       "      <td>Withheld</td>\n",
       "    </tr>\n",
       "    <tr>\n",
       "      <td>1995</td>\n",
       "      <td>9983</td>\n",
       "      <td>655</td>\n",
       "      <td>Taichung</td>\n",
       "      <td>Female</td>\n",
       "      <td>?</td>\n",
       "      <td>7</td>\n",
       "      <td>137145.12</td>\n",
       "      <td>1</td>\n",
       "      <td>?</td>\n",
       "      <td>0</td>\n",
       "      <td>115146.4</td>\n",
       "      <td>Withheld</td>\n",
       "    </tr>\n",
       "    <tr>\n",
       "      <td>1996</td>\n",
       "      <td>9985</td>\n",
       "      <td>602</td>\n",
       "      <td>Taichung</td>\n",
       "      <td>Male</td>\n",
       "      <td>35</td>\n",
       "      <td>7</td>\n",
       "      <td>?</td>\n",
       "      <td>?</td>\n",
       "      <td>1</td>\n",
       "      <td>1</td>\n",
       "      <td>?</td>\n",
       "      <td>Withheld</td>\n",
       "    </tr>\n",
       "    <tr>\n",
       "      <td>1997</td>\n",
       "      <td>9993</td>\n",
       "      <td>?</td>\n",
       "      <td>Tainan</td>\n",
       "      <td>?</td>\n",
       "      <td>36</td>\n",
       "      <td>2</td>\n",
       "      <td>0</td>\n",
       "      <td>?</td>\n",
       "      <td>?</td>\n",
       "      <td>?</td>\n",
       "      <td>195192.4</td>\n",
       "      <td>Withheld</td>\n",
       "    </tr>\n",
       "    <tr>\n",
       "      <td>1998</td>\n",
       "      <td>9996</td>\n",
       "      <td>771</td>\n",
       "      <td>Taipei</td>\n",
       "      <td>?</td>\n",
       "      <td>39</td>\n",
       "      <td>5</td>\n",
       "      <td>0</td>\n",
       "      <td>2</td>\n",
       "      <td>1</td>\n",
       "      <td>0</td>\n",
       "      <td>96270.64</td>\n",
       "      <td>Withheld</td>\n",
       "    </tr>\n",
       "    <tr>\n",
       "      <td>1999</td>\n",
       "      <td>9998</td>\n",
       "      <td>709</td>\n",
       "      <td>?</td>\n",
       "      <td>Female</td>\n",
       "      <td>36</td>\n",
       "      <td>7</td>\n",
       "      <td>?</td>\n",
       "      <td>1</td>\n",
       "      <td>?</td>\n",
       "      <td>1</td>\n",
       "      <td>?</td>\n",
       "      <td>Withheld</td>\n",
       "    </tr>\n",
       "  </tbody>\n",
       "</table>\n",
       "</div>"
      ],
      "text/plain": [
       "        ID 'Product using score' 'User area'  gender age  \\\n",
       "0        2                   608      Tainan       ?  41   \n",
       "1        6                   645           ?    Male   ?   \n",
       "2       13                   476           ?  Female  34   \n",
       "3       17                   653    Taichung    Male  58   \n",
       "4       31                   591      Tainan  Female  39   \n",
       "1995  9983                   655    Taichung  Female   ?   \n",
       "1996  9985                   602    Taichung    Male  35   \n",
       "1997  9993                     ?      Tainan       ?  36   \n",
       "1998  9996                   771      Taipei       ?  39   \n",
       "1999  9998                   709           ?  Female  36   \n",
       "\n",
       "     'Cumulative using time' 'Point balance' 'Product service usage'  \\\n",
       "0                          ?        83807.86                       1   \n",
       "1                          8       113755.78                       ?   \n",
       "2                         10               0                       ?   \n",
       "3                          ?       132602.88                       1   \n",
       "4                          3               0                       ?   \n",
       "1995                       7       137145.12                       1   \n",
       "1996                       7               ?                       ?   \n",
       "1997                       2               0                       ?   \n",
       "1998                       5               0                       2   \n",
       "1999                       7               ?                       1   \n",
       "\n",
       "     'Pay a monthly fee by credit card' 'Active user' ' Estimated salary'  \\\n",
       "0                                     ?             1                   ?   \n",
       "1                                     1             0                   ?   \n",
       "2                                     1             0            26260.98   \n",
       "3                                     1             0             5097.67   \n",
       "4                                     1             ?                   ?   \n",
       "1995                                  ?             0            115146.4   \n",
       "1996                                  1             1                   ?   \n",
       "1997                                  ?             ?            195192.4   \n",
       "1998                                  1             0            96270.64   \n",
       "1999                                  ?             1                   ?   \n",
       "\n",
       "     'Purchase or not'  \n",
       "0             Withheld  \n",
       "1             Withheld  \n",
       "2             Withheld  \n",
       "3             Withheld  \n",
       "4             Withheld  \n",
       "1995          Withheld  \n",
       "1996          Withheld  \n",
       "1997          Withheld  \n",
       "1998          Withheld  \n",
       "1999          Withheld  "
      ]
     },
     "execution_count": 79,
     "metadata": {},
     "output_type": "execute_result"
    }
   ],
   "source": [
    "def get_df_test(df, **params):\n",
    "    \"\"\"\n",
    "    获取df_test\n",
    "    :param params: \n",
    "    :return: \n",
    "    \"\"\"\n",
    "    df.sort_values(by='ID', inplace=True)\n",
    "    \n",
    "    df.reset_index(inplace=True, drop=True)\n",
    "    \n",
    "    return df\n",
    "\n",
    "df_test = get_df_test(df_test)\n",
    "\n",
    "pd.concat([df_test.head(), df_test.tail()])\n"
   ]
  },
  {
   "cell_type": "code",
   "execution_count": 80,
   "metadata": {
    "pycharm": {
     "is_executing": false,
     "name": "#%%\n"
    }
   },
   "outputs": [
    {
     "data": {
      "text/html": [
       "<div>\n",
       "<style scoped>\n",
       "    .dataframe tbody tr th:only-of-type {\n",
       "        vertical-align: middle;\n",
       "    }\n",
       "\n",
       "    .dataframe tbody tr th {\n",
       "        vertical-align: top;\n",
       "    }\n",
       "\n",
       "    .dataframe thead th {\n",
       "        text-align: right;\n",
       "    }\n",
       "</style>\n",
       "<table border=\"1\" class=\"dataframe\">\n",
       "  <thead>\n",
       "    <tr style=\"text-align: right;\">\n",
       "      <th></th>\n",
       "      <th>ID</th>\n",
       "      <th>'Product using score'</th>\n",
       "      <th>'User area'</th>\n",
       "      <th>gender</th>\n",
       "      <th>age</th>\n",
       "      <th>'Cumulative using time'</th>\n",
       "      <th>'Point balance'</th>\n",
       "      <th>'Product service usage'</th>\n",
       "      <th>'Pay a monthly fee by credit card'</th>\n",
       "      <th>'Active user'</th>\n",
       "      <th>' Estimated salary'</th>\n",
       "      <th>'Purchase or not'</th>\n",
       "    </tr>\n",
       "  </thead>\n",
       "  <tbody>\n",
       "    <tr>\n",
       "      <td>0</td>\n",
       "      <td>1</td>\n",
       "      <td>619</td>\n",
       "      <td>Taipei</td>\n",
       "      <td>?</td>\n",
       "      <td>42</td>\n",
       "      <td>2</td>\n",
       "      <td>?</td>\n",
       "      <td>1</td>\n",
       "      <td>1</td>\n",
       "      <td>1</td>\n",
       "      <td>101348.88</td>\n",
       "      <td>1</td>\n",
       "    </tr>\n",
       "    <tr>\n",
       "      <td>1</td>\n",
       "      <td>3</td>\n",
       "      <td>502</td>\n",
       "      <td>Taipei</td>\n",
       "      <td>?</td>\n",
       "      <td>42</td>\n",
       "      <td>8</td>\n",
       "      <td>?</td>\n",
       "      <td>3</td>\n",
       "      <td>1</td>\n",
       "      <td>0</td>\n",
       "      <td>?</td>\n",
       "      <td>1</td>\n",
       "    </tr>\n",
       "    <tr>\n",
       "      <td>2</td>\n",
       "      <td>4</td>\n",
       "      <td>699</td>\n",
       "      <td>?</td>\n",
       "      <td>?</td>\n",
       "      <td>?</td>\n",
       "      <td>?</td>\n",
       "      <td>0</td>\n",
       "      <td>2</td>\n",
       "      <td>?</td>\n",
       "      <td>0</td>\n",
       "      <td>?</td>\n",
       "      <td>0</td>\n",
       "    </tr>\n",
       "    <tr>\n",
       "      <td>3</td>\n",
       "      <td>7</td>\n",
       "      <td>822</td>\n",
       "      <td>Taipei</td>\n",
       "      <td>Male</td>\n",
       "      <td>50</td>\n",
       "      <td>7</td>\n",
       "      <td>0</td>\n",
       "      <td>2</td>\n",
       "      <td>1</td>\n",
       "      <td>1</td>\n",
       "      <td>10062.8</td>\n",
       "      <td>0</td>\n",
       "    </tr>\n",
       "    <tr>\n",
       "      <td>4</td>\n",
       "      <td>9</td>\n",
       "      <td>501</td>\n",
       "      <td>Taipei</td>\n",
       "      <td>Male</td>\n",
       "      <td>44</td>\n",
       "      <td>?</td>\n",
       "      <td>?</td>\n",
       "      <td>2</td>\n",
       "      <td>0</td>\n",
       "      <td>1</td>\n",
       "      <td>74940.5</td>\n",
       "      <td>0</td>\n",
       "    </tr>\n",
       "    <tr>\n",
       "      <td>5995</td>\n",
       "      <td>9992</td>\n",
       "      <td>597</td>\n",
       "      <td>Taipei</td>\n",
       "      <td>Female</td>\n",
       "      <td>53</td>\n",
       "      <td>4</td>\n",
       "      <td>88381.21</td>\n",
       "      <td>1</td>\n",
       "      <td>?</td>\n",
       "      <td>?</td>\n",
       "      <td>?</td>\n",
       "      <td>1</td>\n",
       "    </tr>\n",
       "    <tr>\n",
       "      <td>5996</td>\n",
       "      <td>9994</td>\n",
       "      <td>644</td>\n",
       "      <td>Taipei</td>\n",
       "      <td>Male</td>\n",
       "      <td>28</td>\n",
       "      <td>7</td>\n",
       "      <td>155060.41</td>\n",
       "      <td>?</td>\n",
       "      <td>1</td>\n",
       "      <td>0</td>\n",
       "      <td>29179.52</td>\n",
       "      <td>0</td>\n",
       "    </tr>\n",
       "    <tr>\n",
       "      <td>5997</td>\n",
       "      <td>9995</td>\n",
       "      <td>800</td>\n",
       "      <td>?</td>\n",
       "      <td>Female</td>\n",
       "      <td>29</td>\n",
       "      <td>2</td>\n",
       "      <td>?</td>\n",
       "      <td>2</td>\n",
       "      <td>0</td>\n",
       "      <td>?</td>\n",
       "      <td>167773.55</td>\n",
       "      <td>0</td>\n",
       "    </tr>\n",
       "    <tr>\n",
       "      <td>5998</td>\n",
       "      <td>9999</td>\n",
       "      <td>772</td>\n",
       "      <td>Taichung</td>\n",
       "      <td>Male</td>\n",
       "      <td>?</td>\n",
       "      <td>3</td>\n",
       "      <td>75075.31</td>\n",
       "      <td>2</td>\n",
       "      <td>?</td>\n",
       "      <td>?</td>\n",
       "      <td>?</td>\n",
       "      <td>1</td>\n",
       "    </tr>\n",
       "    <tr>\n",
       "      <td>5999</td>\n",
       "      <td>10000</td>\n",
       "      <td>792</td>\n",
       "      <td>?</td>\n",
       "      <td>Female</td>\n",
       "      <td>28</td>\n",
       "      <td>?</td>\n",
       "      <td>?</td>\n",
       "      <td>1</td>\n",
       "      <td>1</td>\n",
       "      <td>?</td>\n",
       "      <td>38190.78</td>\n",
       "      <td>0</td>\n",
       "    </tr>\n",
       "  </tbody>\n",
       "</table>\n",
       "</div>"
      ],
      "text/plain": [
       "         ID 'Product using score' 'User area'  gender age  \\\n",
       "0         1                   619      Taipei       ?  42   \n",
       "1         3                   502      Taipei       ?  42   \n",
       "2         4                   699           ?       ?   ?   \n",
       "3         7                   822      Taipei    Male  50   \n",
       "4         9                   501      Taipei    Male  44   \n",
       "5995   9992                   597      Taipei  Female  53   \n",
       "5996   9994                   644      Taipei    Male  28   \n",
       "5997   9995                   800           ?  Female  29   \n",
       "5998   9999                   772    Taichung    Male   ?   \n",
       "5999  10000                   792           ?  Female  28   \n",
       "\n",
       "     'Cumulative using time' 'Point balance' 'Product service usage'  \\\n",
       "0                          2               ?                       1   \n",
       "1                          8               ?                       3   \n",
       "2                          ?               0                       2   \n",
       "3                          7               0                       2   \n",
       "4                          ?               ?                       2   \n",
       "5995                       4        88381.21                       1   \n",
       "5996                       7       155060.41                       ?   \n",
       "5997                       2               ?                       2   \n",
       "5998                       3        75075.31                       2   \n",
       "5999                       ?               ?                       1   \n",
       "\n",
       "     'Pay a monthly fee by credit card' 'Active user' ' Estimated salary'  \\\n",
       "0                                     1             1           101348.88   \n",
       "1                                     1             0                   ?   \n",
       "2                                     ?             0                   ?   \n",
       "3                                     1             1             10062.8   \n",
       "4                                     0             1             74940.5   \n",
       "5995                                  ?             ?                   ?   \n",
       "5996                                  1             0            29179.52   \n",
       "5997                                  0             ?           167773.55   \n",
       "5998                                  ?             ?                   ?   \n",
       "5999                                  1             ?            38190.78   \n",
       "\n",
       "      'Purchase or not'  \n",
       "0                     1  \n",
       "1                     1  \n",
       "2                     0  \n",
       "3                     0  \n",
       "4                     0  \n",
       "5995                  1  \n",
       "5996                  0  \n",
       "5997                  0  \n",
       "5998                  1  \n",
       "5999                  0  "
      ]
     },
     "execution_count": 80,
     "metadata": {},
     "output_type": "execute_result"
    }
   ],
   "source": [
    "def get_df_training(df, **params):\n",
    "    \"\"\"\n",
    "    获取df_training\n",
    "    :param params: \n",
    "    :return: \n",
    "    \"\"\"\n",
    "    df.sort_values(by='ID', inplace=True)\n",
    "    \n",
    "    df.reset_index(inplace=True, drop=True)\n",
    "    \n",
    "    return df\n",
    "\n",
    "df_training = get_df_training(df_training)\n",
    "\n",
    "pd.concat([df_training.head(), df_training.tail()])\n"
   ]
  },
  {
   "cell_type": "code",
   "execution_count": 81,
   "metadata": {
    "pycharm": {
     "is_executing": false,
     "name": "#%%\n"
    }
   },
   "outputs": [
    {
     "data": {
      "text/plain": [
       "Taipei      745\n",
       "?           587\n",
       "Taichung    344\n",
       "Tainan      324\n",
       "Name: 'User area', dtype: int64"
      ]
     },
     "execution_count": 81,
     "metadata": {},
     "output_type": "execute_result"
    }
   ],
   "source": [
    "df_test[\"'User area'\"].value_counts()\n"
   ]
  },
  {
   "cell_type": "code",
   "execution_count": 82,
   "metadata": {
    "pycharm": {
     "is_executing": false,
     "name": "#%%\n"
    }
   },
   "outputs": [
    {
     "data": {
      "text/plain": [
       "Taipei      2077\n",
       "?           1833\n",
       "Taichung    1063\n",
       "Tainan      1027\n",
       "Name: 'User area', dtype: int64"
      ]
     },
     "execution_count": 82,
     "metadata": {},
     "output_type": "execute_result"
    }
   ],
   "source": [
    "df_training[\"'User area'\"].value_counts()\n"
   ]
  },
  {
   "cell_type": "code",
   "execution_count": 83,
   "metadata": {
    "pycharm": {
     "is_executing": false,
     "name": "#%%\n"
    }
   },
   "outputs": [],
   "source": [
    "import pandas as pd\n",
    "\n",
    "def deal_User_area(df: pd.DataFrame, **params) -> pd.DataFrame:\n",
    "    \"\"\"\n",
    "    二、处理User_area\n",
    "    :param df:\n",
    "    :param params:\n",
    "    :return:\n",
    "    \"\"\"\n",
    "    df[\"'User area'\"] = df[\"'User area'\"].apply(lambda x: 0 if x == \"?\" else x)\n",
    "    df[\"'User area'\"] = df[\"'User area'\"].apply(lambda x: 1 if x == \"Taipei\" else x)\n",
    "    df[\"'User area'\"] = df[\"'User area'\"].apply(lambda x: 2 if x == \"Taichung\" else x)\n",
    "    df[\"'User area'\"] = df[\"'User area'\"].apply(lambda x: 3 if x == \"Tainan\" else x)\n",
    "\n",
    "    return df\n",
    "    \n",
    "df_test = deal_User_area(df_test)\n",
    "df_training = deal_User_area(df_training)\n"
   ]
  },
  {
   "cell_type": "code",
   "execution_count": 84,
   "metadata": {
    "pycharm": {
     "is_executing": false,
     "name": "#%%\n"
    }
   },
   "outputs": [
    {
     "data": {
      "text/plain": [
       "Male      732\n",
       "Female    679\n",
       "?         589\n",
       "Name: gender, dtype: int64"
      ]
     },
     "execution_count": 84,
     "metadata": {},
     "output_type": "execute_result"
    }
   ],
   "source": [
    "df_test['gender'].value_counts()\n"
   ]
  },
  {
   "cell_type": "code",
   "execution_count": 85,
   "metadata": {
    "pycharm": {
     "is_executing": false,
     "name": "#%%\n"
    }
   },
   "outputs": [
    {
     "data": {
      "text/plain": [
       "Male      2315\n",
       "?         1844\n",
       "Female    1841\n",
       "Name: gender, dtype: int64"
      ]
     },
     "execution_count": 85,
     "metadata": {},
     "output_type": "execute_result"
    }
   ],
   "source": [
    "df_training['gender'].value_counts()\n"
   ]
  },
  {
   "cell_type": "code",
   "execution_count": 86,
   "metadata": {
    "pycharm": {
     "is_executing": false,
     "name": "#%%\n"
    }
   },
   "outputs": [
    {
     "data": {
      "text/html": [
       "<div>\n",
       "<style scoped>\n",
       "    .dataframe tbody tr th:only-of-type {\n",
       "        vertical-align: middle;\n",
       "    }\n",
       "\n",
       "    .dataframe tbody tr th {\n",
       "        vertical-align: top;\n",
       "    }\n",
       "\n",
       "    .dataframe thead th {\n",
       "        text-align: right;\n",
       "    }\n",
       "</style>\n",
       "<table border=\"1\" class=\"dataframe\">\n",
       "  <thead>\n",
       "    <tr style=\"text-align: right;\">\n",
       "      <th></th>\n",
       "      <th>ID</th>\n",
       "      <th>'Product using score'</th>\n",
       "      <th>'User area'</th>\n",
       "      <th>gender</th>\n",
       "      <th>age</th>\n",
       "      <th>'Cumulative using time'</th>\n",
       "      <th>'Point balance'</th>\n",
       "      <th>'Product service usage'</th>\n",
       "      <th>'Pay a monthly fee by credit card'</th>\n",
       "      <th>'Active user'</th>\n",
       "      <th>' Estimated salary'</th>\n",
       "      <th>'Purchase or not'</th>\n",
       "    </tr>\n",
       "  </thead>\n",
       "  <tbody>\n",
       "    <tr>\n",
       "      <td>0</td>\n",
       "      <td>2</td>\n",
       "      <td>608</td>\n",
       "      <td>3</td>\n",
       "      <td>0</td>\n",
       "      <td>41</td>\n",
       "      <td>?</td>\n",
       "      <td>83807.86</td>\n",
       "      <td>1</td>\n",
       "      <td>?</td>\n",
       "      <td>1</td>\n",
       "      <td>?</td>\n",
       "      <td>Withheld</td>\n",
       "    </tr>\n",
       "    <tr>\n",
       "      <td>1</td>\n",
       "      <td>6</td>\n",
       "      <td>645</td>\n",
       "      <td>4</td>\n",
       "      <td>1</td>\n",
       "      <td>?</td>\n",
       "      <td>8</td>\n",
       "      <td>113755.78</td>\n",
       "      <td>?</td>\n",
       "      <td>1</td>\n",
       "      <td>0</td>\n",
       "      <td>?</td>\n",
       "      <td>Withheld</td>\n",
       "    </tr>\n",
       "    <tr>\n",
       "      <td>2</td>\n",
       "      <td>13</td>\n",
       "      <td>476</td>\n",
       "      <td>4</td>\n",
       "      <td>2</td>\n",
       "      <td>34</td>\n",
       "      <td>10</td>\n",
       "      <td>0</td>\n",
       "      <td>?</td>\n",
       "      <td>1</td>\n",
       "      <td>0</td>\n",
       "      <td>26260.98</td>\n",
       "      <td>Withheld</td>\n",
       "    </tr>\n",
       "    <tr>\n",
       "      <td>3</td>\n",
       "      <td>17</td>\n",
       "      <td>653</td>\n",
       "      <td>2</td>\n",
       "      <td>1</td>\n",
       "      <td>58</td>\n",
       "      <td>?</td>\n",
       "      <td>132602.88</td>\n",
       "      <td>1</td>\n",
       "      <td>1</td>\n",
       "      <td>0</td>\n",
       "      <td>5097.67</td>\n",
       "      <td>Withheld</td>\n",
       "    </tr>\n",
       "    <tr>\n",
       "      <td>4</td>\n",
       "      <td>31</td>\n",
       "      <td>591</td>\n",
       "      <td>3</td>\n",
       "      <td>2</td>\n",
       "      <td>39</td>\n",
       "      <td>3</td>\n",
       "      <td>0</td>\n",
       "      <td>?</td>\n",
       "      <td>1</td>\n",
       "      <td>?</td>\n",
       "      <td>?</td>\n",
       "      <td>Withheld</td>\n",
       "    </tr>\n",
       "  </tbody>\n",
       "</table>\n",
       "</div>"
      ],
      "text/plain": [
       "   ID 'Product using score'  'User area'  gender age 'Cumulative using time'  \\\n",
       "0   2                   608            3       0  41                       ?   \n",
       "1   6                   645            4       1   ?                       8   \n",
       "2  13                   476            4       2  34                      10   \n",
       "3  17                   653            2       1  58                       ?   \n",
       "4  31                   591            3       2  39                       3   \n",
       "\n",
       "  'Point balance' 'Product service usage' 'Pay a monthly fee by credit card'  \\\n",
       "0        83807.86                       1                                  ?   \n",
       "1       113755.78                       ?                                  1   \n",
       "2               0                       ?                                  1   \n",
       "3       132602.88                       1                                  1   \n",
       "4               0                       ?                                  1   \n",
       "\n",
       "  'Active user' ' Estimated salary' 'Purchase or not'  \n",
       "0             1                   ?          Withheld  \n",
       "1             0                   ?          Withheld  \n",
       "2             0            26260.98          Withheld  \n",
       "3             0             5097.67          Withheld  \n",
       "4             ?                   ?          Withheld  "
      ]
     },
     "execution_count": 86,
     "metadata": {},
     "output_type": "execute_result"
    }
   ],
   "source": [
    "def deal_gender(df: pd.DataFrame, **params) -> pd.DataFrame:\n",
    "    \"\"\"\n",
    "    三、处理gender\n",
    "    :param df: \n",
    "    :param params: \n",
    "    :return: \n",
    "    \"\"\"\n",
    "    df['gender'] = df['gender'].apply(lambda x: 0 if x == \"?\" else x)\n",
    "    df['gender'] = df['gender'].apply(lambda x: 1 if x == \"Male\" else x)\n",
    "    df['gender'] = df['gender'].apply(lambda x: 2 if x == \"Female\" else x)\n",
    "    \n",
    "    return df\n",
    "\n",
    "df_test = deal_gender(df_test)\n",
    "df_training = deal_gender(df_training)\n",
    "df_test.head()\n"
   ]
  },
  {
   "cell_type": "code",
   "execution_count": 87,
   "metadata": {
    "pycharm": {
     "is_executing": false,
     "name": "#%%\n"
    }
   },
   "outputs": [
    {
     "data": {
      "text/plain": [
       "?     569\n",
       "1     163\n",
       "2     159\n",
       "7     159\n",
       "9     147\n",
       "5     145\n",
       "8     144\n",
       "6     140\n",
       "3     129\n",
       "4     120\n",
       "10     68\n",
       "0      57\n",
       "Name: 'Cumulative using time', dtype: int64"
      ]
     },
     "execution_count": 87,
     "metadata": {},
     "output_type": "execute_result"
    }
   ],
   "source": [
    "df_test[\"'Cumulative using time'\"].value_counts()"
   ]
  },
  {
   "cell_type": "code",
   "execution_count": null,
   "metadata": {
    "pycharm": {
     "name": "#%%\n"
    }
   },
   "outputs": [],
   "source": [
    "\n"
   ]
  }
 ],
 "metadata": {
  "kernelspec": {
   "display_name": "PyCharm (2019-CCF-Passenger-Car-Segment-Sales-Forecast)",
   "language": "python",
   "name": "pycharm-427c7da"
  },
  "language_info": {
   "codemirror_mode": {
    "name": "ipython",
    "version": 3
   },
   "file_extension": ".py",
   "mimetype": "text/x-python",
   "name": "python",
   "nbconvert_exporter": "python",
   "pygments_lexer": "ipython3",
   "version": "3.6.7"
  },
  "pycharm": {
   "stem_cell": {
    "cell_type": "raw",
    "metadata": {
     "collapsed": false
    },
    "source": []
   }
  }
 },
 "nbformat": 4,
 "nbformat_minor": 1
}
